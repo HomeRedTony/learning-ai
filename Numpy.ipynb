{
 "cells": [
  {
   "cell_type": "code",
   "execution_count": 1,
   "id": "8777c012",
   "metadata": {},
   "outputs": [],
   "source": [
    "import numpy as np\n",
    "\n",
    "data = np.arange(12);\n",
    "# array([ 0,  1,  2,  3,  4,  5,  6,  7,  8,  9, 10, 11])"
   ]
  },
  {
   "cell_type": "code",
   "execution_count": 2,
   "id": "d6433f0f",
   "metadata": {},
   "outputs": [
    {
     "data": {
      "text/plain": [
       "array([ 0,  1,  2,  3,  4,  5,  6,  7,  8,  9, 10, 11])"
      ]
     },
     "execution_count": 2,
     "metadata": {},
     "output_type": "execute_result"
    }
   ],
   "source": [
    "data"
   ]
  },
  {
   "cell_type": "code",
   "execution_count": 3,
   "id": "e17f84a1",
   "metadata": {},
   "outputs": [
    {
     "data": {
      "text/plain": [
       "array([[ 0,  1,  2,  3],\n",
       "       [ 4,  5,  6,  7],\n",
       "       [ 8,  9, 10, 11]])"
      ]
     },
     "execution_count": 3,
     "metadata": {},
     "output_type": "execute_result"
    }
   ],
   "source": [
    "data.reshape(3,4)\n",
    "# array([[ 0,  1,  2,  3],\n",
    "#       [ 4,  5,  6,  7],\n",
    "#       [ 8,  9, 10, 11]])"
   ]
  },
  {
   "cell_type": "code",
   "execution_count": 4,
   "id": "d983c5f9",
   "metadata": {},
   "outputs": [
    {
     "data": {
      "text/plain": [
       "numpy.ndarray"
      ]
     },
     "execution_count": 4,
     "metadata": {},
     "output_type": "execute_result"
    }
   ],
   "source": [
    "type(data) # numpy.ndarray"
   ]
  },
  {
   "cell_type": "code",
   "execution_count": 5,
   "id": "6c7cec72",
   "metadata": {},
   "outputs": [
    {
     "data": {
      "text/plain": [
       "1"
      ]
     },
     "execution_count": 5,
     "metadata": {},
     "output_type": "execute_result"
    }
   ],
   "source": [
    "data.ndim  # 数组维度的个数，输出结果：1 ，表示是一维数组"
   ]
  },
  {
   "cell_type": "code",
   "execution_count": 6,
   "id": "c6254f2c",
   "metadata": {},
   "outputs": [
    {
     "data": {
      "text/plain": [
       "2"
      ]
     },
     "execution_count": 6,
     "metadata": {},
     "output_type": "execute_result"
    }
   ],
   "source": [
    "data = data.reshape(3,4)\n",
    "data.ndim  # 2"
   ]
  },
  {
   "cell_type": "code",
   "execution_count": 7,
   "id": "bd8fefaf",
   "metadata": {},
   "outputs": [
    {
     "data": {
      "text/plain": [
       "(3, 4)"
      ]
     },
     "execution_count": 7,
     "metadata": {},
     "output_type": "execute_result"
    }
   ],
   "source": [
    "data.shape  # 数组的维度，输出结果（3,4） 表示3行4列"
   ]
  },
  {
   "cell_type": "code",
   "execution_count": 8,
   "id": "216f0575",
   "metadata": {},
   "outputs": [
    {
     "data": {
      "text/plain": [
       "12"
      ]
     },
     "execution_count": 8,
     "metadata": {},
     "output_type": "execute_result"
    }
   ],
   "source": [
    "data.size  # 数组元素的个数，输出结果：12"
   ]
  },
  {
   "cell_type": "code",
   "execution_count": 9,
   "id": "a0c7eb5f",
   "metadata": {},
   "outputs": [
    {
     "data": {
      "text/plain": [
       "dtype('int32')"
      ]
     },
     "execution_count": 9,
     "metadata": {},
     "output_type": "execute_result"
    }
   ],
   "source": [
    "data.dtype  # dtype('int32')  数组元素的类型，表示元素都是int32类型的"
   ]
  },
  {
   "cell_type": "code",
   "execution_count": 10,
   "id": "72525b0f",
   "metadata": {},
   "outputs": [
    {
     "data": {
      "text/plain": [
       "array([1, 2, 3])"
      ]
     },
     "execution_count": 10,
     "metadata": {},
     "output_type": "execute_result"
    }
   ],
   "source": [
    "data1 = np.array([1,2,3])  # 创建一个一维数组\n",
    "data1  # array([1, 2, 3])"
   ]
  },
  {
   "cell_type": "code",
   "execution_count": 11,
   "id": "cf19e638",
   "metadata": {},
   "outputs": [
    {
     "data": {
      "text/plain": [
       "array([[1, 2, 3],\n",
       "       [4, 5, 6]])"
      ]
     },
     "execution_count": 11,
     "metadata": {},
     "output_type": "execute_result"
    }
   ],
   "source": [
    "data2 = np.array([[1,2,3],[4,5,6]])  # 创建一个二维数组\n",
    "data2\n",
    "# array([[1, 2, 3],\n",
    "#       [4, 5, 6]])"
   ]
  },
  {
   "cell_type": "code",
   "execution_count": 12,
   "id": "c6ca1cb8",
   "metadata": {},
   "outputs": [
    {
     "data": {
      "text/plain": [
       "array([[0., 0., 0., 0.],\n",
       "       [0., 0., 0., 0.],\n",
       "       [0., 0., 0., 0.]])"
      ]
     },
     "execution_count": 12,
     "metadata": {},
     "output_type": "execute_result"
    }
   ],
   "source": [
    "np.zeros((3,4))  # 创建一个全0数组\n",
    "# array([[0., 0., 0., 0.],\n",
    "#       [0., 0., 0., 0.],\n",
    "#       [0., 0., 0., 0.]])"
   ]
  },
  {
   "cell_type": "code",
   "execution_count": 13,
   "id": "14ab33d9",
   "metadata": {},
   "outputs": [
    {
     "data": {
      "text/plain": [
       "array([[1., 1., 1., 1.],\n",
       "       [1., 1., 1., 1.],\n",
       "       [1., 1., 1., 1.]])"
      ]
     },
     "execution_count": 13,
     "metadata": {},
     "output_type": "execute_result"
    }
   ],
   "source": [
    "np.ones((3,4))  # 创建全1数组\n",
    "# array([[1., 1., 1., 1.],\n",
    "#       [1., 1., 1., 1.],\n",
    "#       [1., 1., 1., 1.]])"
   ]
  },
  {
   "cell_type": "code",
   "execution_count": 14,
   "id": "8aa8cbcd",
   "metadata": {},
   "outputs": [
    {
     "data": {
      "text/plain": [
       "array([[2.12199582e-314, 0.00000000e+000],\n",
       "       [1.46211862e-311, 7.90505033e-323],\n",
       "       [6.36598737e-314, 5.10318768e-310],\n",
       "       [1.16113488e-309, 1.18575755e-322],\n",
       "       [1.85676737e+294, 0.00000000e+000]])"
      ]
     },
     "execution_count": 14,
     "metadata": {},
     "output_type": "execute_result"
    }
   ],
   "source": [
    "np.empty((5,2)) # 创建全空数组，其实每个值都是接近于0的数\n",
    "#array([[2.12199582e-314, 0.00000000e+000],\n",
    "#       [1.46211862e-311, 7.90505033e-323],\n",
    "#       [6.36598737e-314, 5.10318768e-310],\n",
    "#       [1.16113488e-309, 1.18575755e-322],\n",
    "#       [1.85676737e+294, 0.00000000e+000]])"
   ]
  },
  {
   "cell_type": "code",
   "execution_count": 15,
   "id": "432ab080",
   "metadata": {},
   "outputs": [
    {
     "data": {
      "text/plain": [
       "array([ 1,  6, 11, 16])"
      ]
     },
     "execution_count": 15,
     "metadata": {},
     "output_type": "execute_result"
    }
   ],
   "source": [
    "np.arange(1,20,5)  # array([ 1,  6, 11, 16])  从1开始，20结束（不包含20），步长为5"
   ]
  },
  {
   "cell_type": "code",
   "execution_count": 16,
   "id": "04d970f7",
   "metadata": {},
   "outputs": [
    {
     "data": {
      "text/plain": [
       "array([1., 2., 3., 4.])"
      ]
     },
     "execution_count": 16,
     "metadata": {},
     "output_type": "execute_result"
    }
   ],
   "source": [
    "np.array([1,2,3,4], float)  # array([1., 2., 3., 4.])"
   ]
  },
  {
   "cell_type": "code",
   "execution_count": 17,
   "id": "15ce6b1e",
   "metadata": {},
   "outputs": [
    {
     "data": {
      "text/plain": [
       "array([[1., 1., 1.],\n",
       "       [1., 1., 1.]])"
      ]
     },
     "execution_count": 17,
     "metadata": {},
     "output_type": "execute_result"
    }
   ],
   "source": [
    "np.ones((2,3), dtype='float64')\n",
    "# array([[1., 1., 1.],\n",
    "#       [1., 1., 1.]])"
   ]
  },
  {
   "cell_type": "code",
   "execution_count": 18,
   "id": "d8460d10",
   "metadata": {},
   "outputs": [],
   "source": [
    "data_one = np.array([[1,2,3],[4,5,6]])"
   ]
  },
  {
   "cell_type": "code",
   "execution_count": 19,
   "id": "f0d87381",
   "metadata": {},
   "outputs": [
    {
     "data": {
      "text/plain": [
       "array([[1, 2, 3],\n",
       "       [4, 5, 6]])"
      ]
     },
     "execution_count": 19,
     "metadata": {},
     "output_type": "execute_result"
    }
   ],
   "source": [
    "data_one\n",
    "# array([[1, 2, 3],\n",
    "#       [4, 5, 6]])"
   ]
  },
  {
   "cell_type": "code",
   "execution_count": 20,
   "id": "abd122b8",
   "metadata": {},
   "outputs": [
    {
     "data": {
      "text/plain": [
       "dtype('int32')"
      ]
     },
     "execution_count": 20,
     "metadata": {},
     "output_type": "execute_result"
    }
   ],
   "source": [
    "# 查看数据类型\n",
    "\n",
    "data_one.dtype\n",
    "# dtype('int32')"
   ]
  },
  {
   "cell_type": "code",
   "execution_count": 21,
   "id": "61b79163",
   "metadata": {},
   "outputs": [
    {
     "data": {
      "text/plain": [
       "'int32'"
      ]
     },
     "execution_count": 21,
     "metadata": {},
     "output_type": "execute_result"
    }
   ],
   "source": [
    "data_one.dtype.name\n",
    "# 'int32'"
   ]
  },
  {
   "cell_type": "code",
   "execution_count": 22,
   "id": "cb08e918",
   "metadata": {},
   "outputs": [
    {
     "data": {
      "text/plain": [
       "dtype('int32')"
      ]
     },
     "execution_count": 22,
     "metadata": {},
     "output_type": "execute_result"
    }
   ],
   "source": [
    "# 转换数据类型\n",
    "data = np.array([[1,2,3],[4,5,6]])\n",
    "data.dtype  # dtype('int32')"
   ]
  },
  {
   "cell_type": "code",
   "execution_count": 23,
   "id": "c3283621",
   "metadata": {},
   "outputs": [
    {
     "data": {
      "text/plain": [
       "dtype('float64')"
      ]
     },
     "execution_count": 23,
     "metadata": {},
     "output_type": "execute_result"
    }
   ],
   "source": [
    "float_data = data.astype(np.float64)\n",
    "float_data.dtype  # dtype('float64')"
   ]
  },
  {
   "cell_type": "code",
   "execution_count": 24,
   "id": "61dbe5e9",
   "metadata": {},
   "outputs": [
    {
     "data": {
      "text/plain": [
       "array([[1., 2., 3.],\n",
       "       [4., 5., 6.]])"
      ]
     },
     "execution_count": 24,
     "metadata": {},
     "output_type": "execute_result"
    }
   ],
   "source": [
    "float_data\n",
    "# array([[1., 2., 3.],\n",
    "#       [4., 5., 6.]])"
   ]
  },
  {
   "cell_type": "code",
   "execution_count": 29,
   "id": "c6273ae1",
   "metadata": {},
   "outputs": [
    {
     "data": {
      "text/plain": [
       "array([1.2, 2.3, 3.4, 4.5, 5.6])"
      ]
     },
     "execution_count": 29,
     "metadata": {},
     "output_type": "execute_result"
    }
   ],
   "source": [
    "float_data = np.array([1.2, 2.3, 3.4,4.5,5.6])\n",
    "float_data  # array([1.2, 2.3, 3.4, 4.5, 5.6])"
   ]
  },
  {
   "cell_type": "code",
   "execution_count": null,
   "id": "345a8e9f",
   "metadata": {},
   "outputs": [],
   "source": []
  },
  {
   "cell_type": "code",
   "execution_count": 26,
   "id": "69f92fda",
   "metadata": {},
   "outputs": [
    {
     "data": {
      "text/plain": [
       "dtype('float64')"
      ]
     },
     "execution_count": 26,
     "metadata": {},
     "output_type": "execute_result"
    }
   ],
   "source": [
    "float_data.dtype  # dtype('float64')"
   ]
  },
  {
   "cell_type": "code",
   "execution_count": 30,
   "id": "8407949c",
   "metadata": {},
   "outputs": [
    {
     "data": {
      "text/plain": [
       "array([1, 2, 3, 4, 5], dtype=int64)"
      ]
     },
     "execution_count": 30,
     "metadata": {},
     "output_type": "execute_result"
    }
   ],
   "source": [
    "int_data = float_data.astype(np.int64)\n",
    "int_data  # array([1, 2, 3, 4, 5], dtype=int64)"
   ]
  },
  {
   "cell_type": "code",
   "execution_count": 31,
   "id": "9541725e",
   "metadata": {},
   "outputs": [
    {
     "data": {
      "text/plain": [
       "array(['1', '2', '3'], dtype='<U1')"
      ]
     },
     "execution_count": 31,
     "metadata": {},
     "output_type": "execute_result"
    }
   ],
   "source": [
    "str_data = np.array(['1', '2', '3'])\n",
    "str_data  # array(['1', '2', '3'], dtype='<U1')"
   ]
  },
  {
   "cell_type": "code",
   "execution_count": 32,
   "id": "9125b945",
   "metadata": {},
   "outputs": [
    {
     "data": {
      "text/plain": [
       "array([1, 2, 3], dtype=int64)"
      ]
     },
     "execution_count": 32,
     "metadata": {},
     "output_type": "execute_result"
    }
   ],
   "source": [
    "int_data = str_data.astype(np.int64)\n",
    "int_data  # array([1, 2, 3], dtype=int64)"
   ]
  },
  {
   "cell_type": "code",
   "execution_count": 33,
   "id": "80d27f33",
   "metadata": {},
   "outputs": [
    {
     "data": {
      "text/plain": [
       "array([[ 2,  4,  6],\n",
       "       [ 8, 10, 12]])"
      ]
     },
     "execution_count": 33,
     "metadata": {},
     "output_type": "execute_result"
    }
   ],
   "source": [
    "# 数组运算\n",
    "# 向量化运算\n",
    "\n",
    "data1 = np.array([[1,2,3],[4,5,6]])\n",
    "data2 = np.array([[1,2,3],[4,5,6]])\n",
    "data1+ data2\n",
    "# array([[ 2,  4,  6],\n",
    "#       [ 8, 10, 12]])"
   ]
  },
  {
   "cell_type": "code",
   "execution_count": 34,
   "id": "4b6af85f",
   "metadata": {},
   "outputs": [
    {
     "data": {
      "text/plain": [
       "array([[ 1,  4,  9],\n",
       "       [16, 25, 36]])"
      ]
     },
     "execution_count": 34,
     "metadata": {},
     "output_type": "execute_result"
    }
   ],
   "source": [
    "data1 * data2\n",
    "# array([[ 1,  4,  9],\n",
    "#       [16, 25, 36]])"
   ]
  },
  {
   "cell_type": "code",
   "execution_count": 35,
   "id": "e2508c14",
   "metadata": {},
   "outputs": [
    {
     "data": {
      "text/plain": [
       "array([[0, 0, 0],\n",
       "       [0, 0, 0]])"
      ]
     },
     "execution_count": 35,
     "metadata": {},
     "output_type": "execute_result"
    }
   ],
   "source": [
    "data1 - data2\n",
    "# array([[0, 0, 0],\n",
    "#       [0, 0, 0]])"
   ]
  },
  {
   "cell_type": "code",
   "execution_count": 36,
   "id": "7f5b3155",
   "metadata": {
    "scrolled": true
   },
   "outputs": [
    {
     "data": {
      "text/plain": [
       "array([[1., 1., 1.],\n",
       "       [1., 1., 1.]])"
      ]
     },
     "execution_count": 36,
     "metadata": {},
     "output_type": "execute_result"
    }
   ],
   "source": [
    "data1 / data2\n",
    "# array([[1., 1., 1.],\n",
    "#       [1., 1., 1.]])"
   ]
  },
  {
   "cell_type": "code",
   "execution_count": null,
   "id": "8ed4f69e",
   "metadata": {},
   "outputs": [],
   "source": [
    "# 数组的广播\n",
    "# numpy 数组间的基础运算是一对一，也就是a.shape==b.shape，\n",
    "# 但是当两者不一样的时候，就会自动触发广播机制，如下例子："
   ]
  },
  {
   "cell_type": "code",
   "execution_count": 37,
   "id": "4dad8231",
   "metadata": {},
   "outputs": [
    {
     "data": {
      "text/plain": [
       "(4, 1)"
      ]
     },
     "execution_count": 37,
     "metadata": {},
     "output_type": "execute_result"
    }
   ],
   "source": [
    "arr1 = np.array([[0],[1],[2],[3]])\n",
    "arr1.shape  # (4, 1)"
   ]
  },
  {
   "cell_type": "code",
   "execution_count": 38,
   "id": "40317ea0",
   "metadata": {},
   "outputs": [
    {
     "data": {
      "text/plain": [
       "(3,)"
      ]
     },
     "execution_count": 38,
     "metadata": {},
     "output_type": "execute_result"
    }
   ],
   "source": [
    "arr2 = np.array([1,2,3])\n",
    "arr2.shape  # (3,)"
   ]
  },
  {
   "cell_type": "code",
   "execution_count": 39,
   "id": "dee82b63",
   "metadata": {},
   "outputs": [
    {
     "data": {
      "text/plain": [
       "array([[1, 2, 3],\n",
       "       [2, 3, 4],\n",
       "       [3, 4, 5],\n",
       "       [4, 5, 6]])"
      ]
     },
     "execution_count": 39,
     "metadata": {},
     "output_type": "execute_result"
    }
   ],
   "source": [
    "arr1 + arr2\n",
    "# array([[1, 2, 3],\n",
    "#       [2, 3, 4],\n",
    "#       [3, 4, 5],\n",
    "#       [4, 5, 6]])"
   ]
  },
  {
   "cell_type": "code",
   "execution_count": 40,
   "id": "707c6446",
   "metadata": {},
   "outputs": [
    {
     "data": {
      "text/plain": [
       "array([[11, 12, 13],\n",
       "       [14, 15, 16]])"
      ]
     },
     "execution_count": 40,
     "metadata": {},
     "output_type": "execute_result"
    }
   ],
   "source": [
    "# 数组与标量间的运算\n",
    "data1 = np.array([[1,2,3],[4,5,6]])\n",
    "data2 =10\n",
    "data1 + data2\n",
    "# array([[11, 12, 13],\n",
    "#       [14, 15, 16]])"
   ]
  },
  {
   "cell_type": "code",
   "execution_count": 41,
   "id": "b3b2778e",
   "metadata": {},
   "outputs": [
    {
     "data": {
      "text/plain": [
       "array([[10, 20, 30],\n",
       "       [40, 50, 60]])"
      ]
     },
     "execution_count": 41,
     "metadata": {},
     "output_type": "execute_result"
    }
   ],
   "source": [
    "data1 * data2\n",
    "# array([[10, 20, 30],\n",
    "#       [40, 50, 60]])"
   ]
  },
  {
   "cell_type": "code",
   "execution_count": 42,
   "id": "b712857e",
   "metadata": {},
   "outputs": [
    {
     "data": {
      "text/plain": [
       "array([[-9, -8, -7],\n",
       "       [-6, -5, -4]])"
      ]
     },
     "execution_count": 42,
     "metadata": {},
     "output_type": "execute_result"
    }
   ],
   "source": [
    "data1 - data2\n",
    "# array([[-9, -8, -7],\n",
    "#       [-6, -5, -4]])"
   ]
  },
  {
   "cell_type": "code",
   "execution_count": 43,
   "id": "6ce79c3f",
   "metadata": {},
   "outputs": [
    {
     "data": {
      "text/plain": [
       "array([[0.1, 0.2, 0.3],\n",
       "       [0.4, 0.5, 0.6]])"
      ]
     },
     "execution_count": 43,
     "metadata": {},
     "output_type": "execute_result"
    }
   ],
   "source": [
    "data1 / data2\n",
    "# array([[0.1, 0.2, 0.3],\n",
    "#       [0.4, 0.5, 0.6]])"
   ]
  },
  {
   "cell_type": "code",
   "execution_count": 45,
   "id": "8283bf9a",
   "metadata": {},
   "outputs": [
    {
     "data": {
      "text/plain": [
       "array([0, 1, 2, 3, 4, 5, 6, 7])"
      ]
     },
     "execution_count": 45,
     "metadata": {},
     "output_type": "execute_result"
    }
   ],
   "source": [
    "# ndarray 的索引和切片\n",
    "# 整数索引和切片的基本使用\n",
    "arr = np.arange(8)\n",
    "arr  # array([0, 1, 2, 3, 4, 5, 6, 7])"
   ]
  },
  {
   "cell_type": "code",
   "execution_count": 46,
   "id": "f427a2ab",
   "metadata": {},
   "outputs": [
    {
     "data": {
      "text/plain": [
       "5"
      ]
     },
     "execution_count": 46,
     "metadata": {},
     "output_type": "execute_result"
    }
   ],
   "source": [
    "arr[5]  # 5"
   ]
  },
  {
   "cell_type": "code",
   "execution_count": 47,
   "id": "abc75934",
   "metadata": {},
   "outputs": [
    {
     "data": {
      "text/plain": [
       "array([3, 4])"
      ]
     },
     "execution_count": 47,
     "metadata": {},
     "output_type": "execute_result"
    }
   ],
   "source": [
    "arr[3:5]  # array([3, 4])"
   ]
  },
  {
   "cell_type": "code",
   "execution_count": 48,
   "id": "6bb09c5f",
   "metadata": {},
   "outputs": [
    {
     "data": {
      "text/plain": [
       "array([1, 3, 5])"
      ]
     },
     "execution_count": 48,
     "metadata": {},
     "output_type": "execute_result"
    }
   ],
   "source": [
    "arr[1:6:2]  # array([1, 3, 5])"
   ]
  },
  {
   "cell_type": "code",
   "execution_count": 49,
   "id": "6b97b9ec",
   "metadata": {},
   "outputs": [
    {
     "data": {
      "text/plain": [
       "array([[1, 2, 3],\n",
       "       [4, 5, 6],\n",
       "       [7, 8, 9]])"
      ]
     },
     "execution_count": 49,
     "metadata": {},
     "output_type": "execute_result"
    }
   ],
   "source": [
    "arr2d = np.array([[1,2,3],[4,5,6],[7,8,9]])\n",
    "arr2d\n",
    "# array([[1, 2, 3],\n",
    "#       [4, 5, 6],\n",
    "#       [7, 8, 9]])"
   ]
  },
  {
   "cell_type": "code",
   "execution_count": 50,
   "id": "86c8f6b8",
   "metadata": {},
   "outputs": [
    {
     "data": {
      "text/plain": [
       "array([4, 5, 6])"
      ]
     },
     "execution_count": 50,
     "metadata": {},
     "output_type": "execute_result"
    }
   ],
   "source": [
    "arr2d[1]  # array([4, 5, 6])"
   ]
  },
  {
   "cell_type": "code",
   "execution_count": 51,
   "id": "ead69737",
   "metadata": {},
   "outputs": [
    {
     "data": {
      "text/plain": [
       "2"
      ]
     },
     "execution_count": 51,
     "metadata": {},
     "output_type": "execute_result"
    }
   ],
   "source": [
    "arr2d[0,1]  # 2"
   ]
  },
  {
   "cell_type": "code",
   "execution_count": 52,
   "id": "f5f0ac77",
   "metadata": {},
   "outputs": [
    {
     "data": {
      "text/plain": [
       "array([[1, 2, 3],\n",
       "       [4, 5, 6]])"
      ]
     },
     "execution_count": 52,
     "metadata": {},
     "output_type": "execute_result"
    }
   ],
   "source": [
    "arr2d[:2]\n",
    "# array([[1, 2, 3],\n",
    "#       [4, 5, 6]])"
   ]
  },
  {
   "cell_type": "code",
   "execution_count": 53,
   "id": "59144ae9",
   "metadata": {},
   "outputs": [
    {
     "data": {
      "text/plain": [
       "array([[1, 2],\n",
       "       [4, 5]])"
      ]
     },
     "execution_count": 53,
     "metadata": {},
     "output_type": "execute_result"
    }
   ],
   "source": [
    "arr2d[0:2, 0:2]\n",
    "# array([[1, 2],\n",
    "#       [4, 5]])"
   ]
  },
  {
   "cell_type": "code",
   "execution_count": 54,
   "id": "75fe822e",
   "metadata": {},
   "outputs": [
    {
     "data": {
      "text/plain": [
       "array([4, 5])"
      ]
     },
     "execution_count": 54,
     "metadata": {},
     "output_type": "execute_result"
    }
   ],
   "source": [
    "arr2d[1, :2]  # array([4, 5])"
   ]
  },
  {
   "cell_type": "code",
   "execution_count": null,
   "id": "b4e04917",
   "metadata": {},
   "outputs": [],
   "source": [
    "# 花式（数组）索引的基本使用"
   ]
  },
  {
   "cell_type": "code",
   "execution_count": 55,
   "id": "50a0ab07",
   "metadata": {},
   "outputs": [
    {
     "data": {
      "text/plain": [
       "array([[6.23042070e-307, 4.67296746e-307, 1.69121096e-306,\n",
       "        1.24611674e-306],\n",
       "       [2.22520559e-306, 1.33511018e-306, 1.42413555e-306,\n",
       "        1.78019082e-306],\n",
       "       [1.37959740e-306, 6.23057349e-307, 1.11260483e-306,\n",
       "        8.90098127e-307],\n",
       "       [3.56034566e-307, 1.37961641e-306, 1.39071445e-307,\n",
       "        1.08223437e-312]])"
      ]
     },
     "execution_count": 55,
     "metadata": {},
     "output_type": "execute_result"
    }
   ],
   "source": [
    "demo_arr = np.empty((4,4))\n",
    "demo_arr\n",
    "# array([[6.23042070e-307, 4.67296746e-307, 1.69121096e-306,\n",
    "#        1.24611674e-306],\n",
    "#       [2.22520559e-306, 1.33511018e-306, 1.42413555e-306,\n",
    "#        1.78019082e-306],\n",
    "#       [1.37959740e-306, 6.23057349e-307, 1.11260483e-306,\n",
    "#        8.90098127e-307],\n",
    "#       [3.56034566e-307, 1.37961641e-306, 1.39071445e-307,\n",
    "#        1.08223437e-312]])"
   ]
  },
  {
   "cell_type": "code",
   "execution_count": 56,
   "id": "3944367a",
   "metadata": {},
   "outputs": [
    {
     "data": {
      "text/plain": [
       "array([[0., 1., 2., 3.],\n",
       "       [1., 2., 3., 4.],\n",
       "       [2., 3., 4., 5.],\n",
       "       [3., 4., 5., 6.]])"
      ]
     },
     "execution_count": 56,
     "metadata": {},
     "output_type": "execute_result"
    }
   ],
   "source": [
    "for i in range(4):\n",
    "    demo_arr[i] = np.arange(i,i+4)\n",
    "demo_arr\n",
    "# array([[0., 1., 2., 3.],\n",
    "#       [1., 2., 3., 4.],\n",
    "#       [2., 3., 4., 5.],\n",
    "#       [3., 4., 5., 6.]])"
   ]
  },
  {
   "cell_type": "code",
   "execution_count": 57,
   "id": "51311600",
   "metadata": {},
   "outputs": [
    {
     "data": {
      "text/plain": [
       "array([[0., 1., 2., 3.],\n",
       "       [2., 3., 4., 5.]])"
      ]
     },
     "execution_count": 57,
     "metadata": {},
     "output_type": "execute_result"
    }
   ],
   "source": [
    "demo_arr[[0,2]]\n",
    "# array([[0., 1., 2., 3.],\n",
    "#       [2., 3., 4., 5.]])"
   ]
  },
  {
   "cell_type": "code",
   "execution_count": 58,
   "id": "bf798982",
   "metadata": {},
   "outputs": [
    {
     "data": {
      "text/plain": [
       "array([2., 5.])"
      ]
     },
     "execution_count": 58,
     "metadata": {},
     "output_type": "execute_result"
    }
   ],
   "source": [
    "demo_arr[[1,3],[1,2]]  # array([2., 5.])  获取索引为（1,1）（3,2）的元素"
   ]
  },
  {
   "cell_type": "code",
   "execution_count": 59,
   "id": "ea4235cd",
   "metadata": {},
   "outputs": [
    {
     "data": {
      "text/plain": [
       "array([2., 5.])"
      ]
     },
     "execution_count": 59,
     "metadata": {},
     "output_type": "execute_result"
    }
   ],
   "source": [
    "demo_arr[(1,3),(1,2)]  # array([2., 5.])"
   ]
  },
  {
   "cell_type": "code",
   "execution_count": 60,
   "id": "b1d019e7",
   "metadata": {},
   "outputs": [
    {
     "data": {
      "text/plain": [
       "array(['Tom', 'Lily', 'Jack', 'Rose'], dtype='<U4')"
      ]
     },
     "execution_count": 60,
     "metadata": {},
     "output_type": "execute_result"
    }
   ],
   "source": [
    "# 布尔型\n",
    "student_name = np.array(['Tom', 'Lily', 'Jack', 'Rose'])\n",
    "student_name  #  array(['Tom', 'Lily', 'Jack', 'Rose'], dtype='<U4')"
   ]
  },
  {
   "cell_type": "code",
   "execution_count": 61,
   "id": "b51e3ea2",
   "metadata": {},
   "outputs": [
    {
     "data": {
      "text/plain": [
       "array([[79, 88, 80],\n",
       "       [89, 90, 92],\n",
       "       [83, 78, 85],\n",
       "       [78, 76, 80]])"
      ]
     },
     "execution_count": 61,
     "metadata": {},
     "output_type": "execute_result"
    }
   ],
   "source": [
    "student_score = np.array([[79, 88, 80], [89, 90, 92], [83, 78, 85], [78, 76, 80]])\n",
    "student_score\n",
    "# array([[79, 88, 80],\n",
    "#       [89, 90, 92],\n",
    "#       [83, 78, 85],\n",
    "#       [78, 76, 80]])"
   ]
  },
  {
   "cell_type": "code",
   "execution_count": 62,
   "id": "032f303d",
   "metadata": {},
   "outputs": [
    {
     "data": {
      "text/plain": [
       "array([False, False,  True, False])"
      ]
     },
     "execution_count": 62,
     "metadata": {},
     "output_type": "execute_result"
    }
   ],
   "source": [
    "student_name == 'Jack' \n",
    "# array([False, False,  True, False])"
   ]
  },
  {
   "cell_type": "code",
   "execution_count": 64,
   "id": "e053944c",
   "metadata": {},
   "outputs": [
    {
     "data": {
      "text/plain": [
       "array([[83, 78, 85]])"
      ]
     },
     "execution_count": 64,
     "metadata": {},
     "output_type": "execute_result"
    }
   ],
   "source": [
    "student_score[student_name == 'Jack']\n",
    "# array([[83, 78, 85]])"
   ]
  },
  {
   "cell_type": "code",
   "execution_count": 65,
   "id": "6c9e0996",
   "metadata": {},
   "outputs": [
    {
     "data": {
      "text/plain": [
       "array([[83]])"
      ]
     },
     "execution_count": 65,
     "metadata": {},
     "output_type": "execute_result"
    }
   ],
   "source": [
    "student_score[student_name == 'Jack', :1]\n",
    "# array([[83]])"
   ]
  },
  {
   "cell_type": "code",
   "execution_count": 66,
   "id": "933bd2e0",
   "metadata": {},
   "outputs": [
    {
     "data": {
      "text/plain": [
       "array([[ 0,  1,  2,  3],\n",
       "       [ 4,  5,  6,  7],\n",
       "       [ 8,  9, 10, 11]])"
      ]
     },
     "execution_count": 66,
     "metadata": {},
     "output_type": "execute_result"
    }
   ],
   "source": [
    "# 数组的转置和轴对称\n",
    "arr = np.arange(12).reshape(3,4)\n",
    "arr\n",
    "# array([[ 0,  1,  2,  3],\n",
    "#       [ 4,  5,  6,  7],\n",
    "#       [ 8,  9, 10, 11]])"
   ]
  },
  {
   "cell_type": "code",
   "execution_count": 67,
   "id": "8c940f17",
   "metadata": {},
   "outputs": [
    {
     "data": {
      "text/plain": [
       "array([[ 0,  4,  8],\n",
       "       [ 1,  5,  9],\n",
       "       [ 2,  6, 10],\n",
       "       [ 3,  7, 11]])"
      ]
     },
     "execution_count": 67,
     "metadata": {},
     "output_type": "execute_result"
    }
   ],
   "source": [
    "arr.T\n",
    "# array([[ 0,  4,  8],\n",
    "#       [ 1,  5,  9],\n",
    "#       [ 2,  6, 10],\n",
    "#       [ 3,  7, 11]])"
   ]
  },
  {
   "cell_type": "code",
   "execution_count": 68,
   "id": "1d32ea9c",
   "metadata": {},
   "outputs": [
    {
     "data": {
      "text/plain": [
       "array([[[ 0,  1,  2,  3],\n",
       "        [ 4,  5,  6,  7]],\n",
       "\n",
       "       [[ 8,  9, 10, 11],\n",
       "        [12, 13, 14, 15]]])"
      ]
     },
     "execution_count": 68,
     "metadata": {},
     "output_type": "execute_result"
    }
   ],
   "source": [
    "arr = np.arange(16).reshape((2,2,4))\n",
    "arr\n",
    "# array([[[ 0,  1,  2,  3],\n",
    "#        [ 4,  5,  6,  7]],\n",
    "#\n",
    "#       [[ 8,  9, 10, 11],\n",
    "#        [12, 13, 14, 15]]])"
   ]
  },
  {
   "cell_type": "code",
   "execution_count": 69,
   "id": "faba8b54",
   "metadata": {},
   "outputs": [
    {
     "data": {
      "text/plain": [
       "array([[[ 0,  8],\n",
       "        [ 1,  9],\n",
       "        [ 2, 10],\n",
       "        [ 3, 11]],\n",
       "\n",
       "       [[ 4, 12],\n",
       "        [ 5, 13],\n",
       "        [ 6, 14],\n",
       "        [ 7, 15]]])"
      ]
     },
     "execution_count": 69,
     "metadata": {},
     "output_type": "execute_result"
    }
   ],
   "source": [
    "arr.transpose(1,2,0)\n",
    "# array([[[ 0,  8],\n",
    "#        [ 1,  9],\n",
    "#        [ 2, 10],\n",
    "#        [ 3, 11]],\n",
    "#\n",
    "#       [[ 4, 12],\n",
    "#        [ 5, 13],\n",
    "#        [ 6, 14],\n",
    "#        [ 7, 15]]])"
   ]
  },
  {
   "cell_type": "code",
   "execution_count": 70,
   "id": "5a37c376",
   "metadata": {},
   "outputs": [
    {
     "data": {
      "text/plain": [
       "array([[[ 0,  1,  2,  3],\n",
       "        [ 8,  9, 10, 11]],\n",
       "\n",
       "       [[ 4,  5,  6,  7],\n",
       "        [12, 13, 14, 15]]])"
      ]
     },
     "execution_count": 70,
     "metadata": {},
     "output_type": "execute_result"
    }
   ],
   "source": [
    "arr.swapaxes(1,0)\n",
    "# array([[[ 0,  1,  2,  3],\n",
    "#        [ 8,  9, 10, 11]],\n",
    "#\n",
    "#       [[ 4,  5,  6,  7],\n",
    "#        [12, 13, 14, 15]]])"
   ]
  },
  {
   "cell_type": "code",
   "execution_count": 71,
   "id": "3007a849",
   "metadata": {},
   "outputs": [
    {
     "data": {
      "text/plain": [
       "array([2., 3., 4.])"
      ]
     },
     "execution_count": 71,
     "metadata": {},
     "output_type": "execute_result"
    }
   ],
   "source": [
    "# NumPy通用函数\n",
    "arr = np.array([4,9,16])\n",
    "np.sqrt(arr)  # array([2., 3., 4.])"
   ]
  },
  {
   "cell_type": "code",
   "execution_count": 72,
   "id": "f6452064",
   "metadata": {},
   "outputs": [
    {
     "data": {
      "text/plain": [
       "array([ 4,  9, 16])"
      ]
     },
     "execution_count": 72,
     "metadata": {},
     "output_type": "execute_result"
    }
   ],
   "source": [
    "np.abs(arr)  # array([ 4,  9, 16])"
   ]
  },
  {
   "cell_type": "code",
   "execution_count": 73,
   "id": "db48452d",
   "metadata": {},
   "outputs": [
    {
     "data": {
      "text/plain": [
       "array([ 16,  81, 256], dtype=int32)"
      ]
     },
     "execution_count": 73,
     "metadata": {},
     "output_type": "execute_result"
    }
   ],
   "source": [
    "np.square(arr)  # array([ 16,  81, 256], dtype=int32)"
   ]
  },
  {
   "cell_type": "code",
   "execution_count": 74,
   "id": "e80132ad",
   "metadata": {},
   "outputs": [
    {
     "data": {
      "text/plain": [
       "array([23, 19, 17, 23])"
      ]
     },
     "execution_count": 74,
     "metadata": {},
     "output_type": "execute_result"
    }
   ],
   "source": [
    "x = np.array([12,9,13,15])\n",
    "y = np.array([11,10,4,8])\n",
    "np.add(x,y)  # array([23, 19, 17, 23])"
   ]
  },
  {
   "cell_type": "code",
   "execution_count": 75,
   "id": "0b69a7c6",
   "metadata": {},
   "outputs": [
    {
     "data": {
      "text/plain": [
       "array([132,  90,  52, 120])"
      ]
     },
     "execution_count": 75,
     "metadata": {},
     "output_type": "execute_result"
    }
   ],
   "source": [
    "np.multiply(x,y)  # array([132,  90,  52, 120])"
   ]
  },
  {
   "cell_type": "code",
   "execution_count": 77,
   "id": "0e3dddc4",
   "metadata": {},
   "outputs": [
    {
     "data": {
      "text/plain": [
       "array([12, 10, 13, 15])"
      ]
     },
     "execution_count": 77,
     "metadata": {},
     "output_type": "execute_result"
    }
   ],
   "source": [
    "np.maximum(x, y)  # array([12, 10, 13, 15])"
   ]
  },
  {
   "cell_type": "code",
   "execution_count": 78,
   "id": "80ef2f22",
   "metadata": {},
   "outputs": [
    {
     "data": {
      "text/plain": [
       "array([ True, False,  True,  True])"
      ]
     },
     "execution_count": 78,
     "metadata": {},
     "output_type": "execute_result"
    }
   ],
   "source": [
    "np.greater(x, y)  # array([ True, False,  True,  True])"
   ]
  },
  {
   "cell_type": "code",
   "execution_count": 79,
   "id": "dd57036d",
   "metadata": {},
   "outputs": [
    {
     "data": {
      "text/plain": [
       "array([1, 6, 7])"
      ]
     },
     "execution_count": 79,
     "metadata": {},
     "output_type": "execute_result"
    }
   ],
   "source": [
    "# 利用NumPy数组进行数据处理\n",
    "# 将条件逻辑转为数组运算\n",
    "arr_x = np.array([1,5,7])\n",
    "arr_y = np.array([2,6,8])\n",
    "arr_con = np.array([True,False,True])\n",
    "result = np.where(arr_con, arr_x, arr_y)\n",
    "result  # array([1, 6, 7])"
   ]
  },
  {
   "cell_type": "code",
   "execution_count": null,
   "id": "878c8c99",
   "metadata": {},
   "outputs": [],
   "source": [
    "# 数组统计运算"
   ]
  },
  {
   "cell_type": "code",
   "execution_count": 80,
   "id": "fd04946d",
   "metadata": {},
   "outputs": [
    {
     "data": {
      "text/plain": [
       "45"
      ]
     },
     "execution_count": 80,
     "metadata": {},
     "output_type": "execute_result"
    }
   ],
   "source": [
    "arr = np.arange(10)\n",
    "arr.sum()  # 45"
   ]
  },
  {
   "cell_type": "code",
   "execution_count": 81,
   "id": "811b9187",
   "metadata": {},
   "outputs": [
    {
     "data": {
      "text/plain": [
       "4.5"
      ]
     },
     "execution_count": 81,
     "metadata": {},
     "output_type": "execute_result"
    }
   ],
   "source": [
    "arr.mean()  # 4.5"
   ]
  },
  {
   "cell_type": "code",
   "execution_count": 82,
   "id": "b08e3fa8",
   "metadata": {},
   "outputs": [
    {
     "data": {
      "text/plain": [
       "0"
      ]
     },
     "execution_count": 82,
     "metadata": {},
     "output_type": "execute_result"
    }
   ],
   "source": [
    "arr.min()  # 0"
   ]
  },
  {
   "cell_type": "code",
   "execution_count": 83,
   "id": "79fd52dd",
   "metadata": {},
   "outputs": [
    {
     "data": {
      "text/plain": [
       "9"
      ]
     },
     "execution_count": 83,
     "metadata": {},
     "output_type": "execute_result"
    }
   ],
   "source": [
    "arr.max()  # 9"
   ]
  },
  {
   "cell_type": "code",
   "execution_count": 84,
   "id": "5c80e51f",
   "metadata": {},
   "outputs": [
    {
     "data": {
      "text/plain": [
       "9"
      ]
     },
     "execution_count": 84,
     "metadata": {},
     "output_type": "execute_result"
    }
   ],
   "source": [
    "arr.argmax() # 9  求最大值的索引"
   ]
  },
  {
   "cell_type": "code",
   "execution_count": 85,
   "id": "049c30a9",
   "metadata": {},
   "outputs": [
    {
     "data": {
      "text/plain": [
       "0"
      ]
     },
     "execution_count": 85,
     "metadata": {},
     "output_type": "execute_result"
    }
   ],
   "source": [
    "arr.argmin()  # 0 求最小值的索引"
   ]
  },
  {
   "cell_type": "code",
   "execution_count": 86,
   "id": "f39e80be",
   "metadata": {},
   "outputs": [
    {
     "data": {
      "text/plain": [
       "array([ 0,  1,  3,  6, 10, 15, 21, 28, 36, 45], dtype=int32)"
      ]
     },
     "execution_count": 86,
     "metadata": {},
     "output_type": "execute_result"
    }
   ],
   "source": [
    "arr.cumsum()  # 计算元素的累计和\n",
    "# array([ 0,  1,  3,  6, 10, 15, 21, 28, 36, 45], dtype=int32)"
   ]
  },
  {
   "cell_type": "code",
   "execution_count": 87,
   "id": "14a1ac6a",
   "metadata": {},
   "outputs": [
    {
     "data": {
      "text/plain": [
       "array([0, 0, 0, 0, 0, 0, 0, 0, 0, 0], dtype=int32)"
      ]
     },
     "execution_count": 87,
     "metadata": {},
     "output_type": "execute_result"
    }
   ],
   "source": [
    "arr.cumprod()  # 计算元素的累计积\n",
    "# array([0, 0, 0, 0, 0, 0, 0, 0, 0, 0], dtype=int32)"
   ]
  },
  {
   "cell_type": "code",
   "execution_count": 88,
   "id": "3dc3ce90",
   "metadata": {},
   "outputs": [
    {
     "name": "stdout",
     "output_type": "stream",
     "text": [
      "[[ 1  2  3  4  5]\n",
      " [ 6  7  8  9 10]\n",
      " [11 12 13 14 15]]\n"
     ]
    }
   ],
   "source": [
    "x = np.arange(1,16).reshape((3,5))\n",
    "print(x)\n",
    "# [[ 1  2  3  4  5]\n",
    "# [ 6  7  8  9 10]\n",
    "# [11 12 13 14 15]]"
   ]
  },
  {
   "cell_type": "code",
   "execution_count": 89,
   "id": "5f1c56c7",
   "metadata": {},
   "outputs": [
    {
     "data": {
      "text/plain": [
       "array([[1, 1, 1, 1],\n",
       "       [1, 1, 1, 1],\n",
       "       [1, 1, 1, 1]])"
      ]
     },
     "execution_count": 89,
     "metadata": {},
     "output_type": "execute_result"
    }
   ],
   "source": [
    "np.diff(x, axis=1) # 默认axis=1，代表x轴方向\n",
    "# array([[1, 1, 1, 1],\n",
    "#       [1, 1, 1, 1],\n",
    "#       [1, 1, 1, 1]])"
   ]
  },
  {
   "cell_type": "code",
   "execution_count": 90,
   "id": "1d7adf1b",
   "metadata": {},
   "outputs": [
    {
     "data": {
      "text/plain": [
       "array([[5, 5, 5, 5, 5],\n",
       "       [5, 5, 5, 5, 5]])"
      ]
     },
     "execution_count": 90,
     "metadata": {},
     "output_type": "execute_result"
    }
   ],
   "source": [
    "np.diff(x, axis=0) # 0代表 y轴方向\n",
    "# array([[5, 5, 5, 5, 5],\n",
    "#       [5, 5, 5, 5, 5]])"
   ]
  },
  {
   "cell_type": "code",
   "execution_count": 91,
   "id": "0047e013",
   "metadata": {},
   "outputs": [
    {
     "data": {
      "text/plain": [
       "array([-1., -2., -1., -2.,  0.,  1.,  1.])"
      ]
     },
     "execution_count": 91,
     "metadata": {},
     "output_type": "execute_result"
    }
   ],
   "source": [
    "np.floor([-0.6, -1.4, -0.1, -1.8, 0, 1.4, 1.7])\n",
    "# array([-1., -2., -1., -2.,  0.,  1.,  1.])"
   ]
  },
  {
   "cell_type": "code",
   "execution_count": 92,
   "id": "5627b10a",
   "metadata": {},
   "outputs": [
    {
     "data": {
      "text/plain": [
       "array([ 2.,  2.,  2.,  3.,  2., -0., -0., -0.])"
      ]
     },
     "execution_count": 92,
     "metadata": {},
     "output_type": "execute_result"
    }
   ],
   "source": [
    "np.ceil([1.2, 1.5, 1.8, 2.1, 2.0, -0.5, -0.6, -0.3])\n",
    "# array([ 2.,  2.,  2.,  3.,  2., -0., -0., -0.])"
   ]
  },
  {
   "cell_type": "code",
   "execution_count": 93,
   "id": "5812a3b8",
   "metadata": {},
   "outputs": [
    {
     "data": {
      "text/plain": [
       "array([[1, 0],\n",
       "       [2, 0],\n",
       "       [0, 1]])"
      ]
     },
     "execution_count": 93,
     "metadata": {},
     "output_type": "execute_result"
    }
   ],
   "source": [
    "x = np.array([[1,0],[2,-2],[-2,1]])\n",
    "np.where(x>0, x, 0)  # 大于0的不便，小于0 的用0取代\n",
    "# array([[1, 0],\n",
    "#       [2, 0],\n",
    "#       [0, 1]])"
   ]
  },
  {
   "cell_type": "code",
   "execution_count": 95,
   "id": "dfa232e7",
   "metadata": {},
   "outputs": [
    {
     "data": {
      "text/plain": [
       "array([[2, 6, 7],\n",
       "       [2, 3, 6],\n",
       "       [2, 3, 4]])"
      ]
     },
     "execution_count": 95,
     "metadata": {},
     "output_type": "execute_result"
    }
   ],
   "source": [
    "# 数组排序\n",
    "arr = np.array([[6,2,7],[3,6,2],[4,3,2]])\n",
    "arr.sort()\n",
    "arr\n",
    "# array([[2, 6, 7],\n",
    "#       [2, 3, 6],\n",
    "#       [2, 3, 4]])"
   ]
  },
  {
   "cell_type": "code",
   "execution_count": 96,
   "id": "f4353536",
   "metadata": {},
   "outputs": [
    {
     "data": {
      "text/plain": [
       "array([[3, 2, 2],\n",
       "       [4, 3, 2],\n",
       "       [6, 6, 7]])"
      ]
     },
     "execution_count": 96,
     "metadata": {},
     "output_type": "execute_result"
    }
   ],
   "source": [
    "arr = np.array([[6,2,7],[3,6,2],[4,3,2]])\n",
    "arr.sort(0)  # 沿着编号为0的轴对元素排序 （相当于是y轴）\n",
    "arr\n",
    "# array([[3, 2, 2],\n",
    "#       [4, 3, 2],\n",
    "#       [6, 6, 7]])"
   ]
  },
  {
   "cell_type": "code",
   "execution_count": 114,
   "id": "979bcf9a",
   "metadata": {},
   "outputs": [
    {
     "data": {
      "text/plain": [
       "array([[4, 4, 4, 4],\n",
       "       [4, 4, 4, 4]])"
      ]
     },
     "execution_count": 114,
     "metadata": {},
     "output_type": "execute_result"
    }
   ],
   "source": [
    "# numpy.diff(a, n=1, axis=1)\n",
    "# 沿着指定轴计算第N维的离散差值\n",
    "# 参数：\n",
    "#     a: 输入矩阵\n",
    "#     n: 可选，代表要执行几次差值\n",
    "#     axis: 默认是1,沿x轴最后一个，0代表沿y轴最后一个\n",
    "arr = np.arange(2,14).reshape((3,4))\n",
    "arr\n",
    "# array([[ 2,  3,  4,  5],\n",
    "#       [ 6,  7,  8,  9],\n",
    "#       [10, 11, 12, 13]])\n",
    "np.diff(arr)  # 最后一个元素 - 前一个元素\n",
    "# array([[1, 1, 1],\n",
    "#       [1, 1, 1],\n",
    "#       [1, 1, 1]])\n",
    "np.diff(arr,axis=1)\n",
    "#array([[1, 1, 1],\n",
    "#       [1, 1, 1],\n",
    "#       [1, 1, 1]])\n",
    "np.diff(arr, axis=0)\n",
    "# array([[4, 4, 4, 4],\n",
    "#       [4, 4, 4, 4]])"
   ]
  },
  {
   "cell_type": "code",
   "execution_count": null,
   "id": "17dce8b3",
   "metadata": {},
   "outputs": [],
   "source": []
  },
  {
   "cell_type": "code",
   "execution_count": 116,
   "id": "8b2a1563",
   "metadata": {},
   "outputs": [
    {
     "data": {
      "text/plain": [
       "False"
      ]
     },
     "execution_count": 116,
     "metadata": {},
     "output_type": "execute_result"
    }
   ],
   "source": [
    "# 检索数组元素\n",
    "arr = np.array([[1,-2,-7],[-3,6,2],[-4,3,2]])\n",
    "np.any(arr > 0) # arr中所有元素是否有一个大于0\n",
    "# True\n",
    "np.all(arr > 0) # arr中所有元素是否都大于0\n",
    "# False"
   ]
  },
  {
   "cell_type": "code",
   "execution_count": 119,
   "id": "2ec51fe1",
   "metadata": {},
   "outputs": [
    {
     "data": {
      "text/plain": [
       "array([ True,  True,  True,  True, False, False, False])"
      ]
     },
     "execution_count": 119,
     "metadata": {},
     "output_type": "execute_result"
    }
   ],
   "source": [
    "# 唯一化及其他集合逻辑\n",
    "arr = np.array([12,11,12,11,23,34,8])\n",
    "np.unique(arr)\n",
    "# array([ 8, 11, 12, 23, 34])\n",
    "np.in1d(arr, [11,12])\n",
    "# array([ True,  True,  True,  True, False, False, False])"
   ]
  },
  {
   "cell_type": "code",
   "execution_count": 120,
   "id": "6aba6e65",
   "metadata": {},
   "outputs": [
    {
     "data": {
      "text/plain": [
       "array([[22, 28],\n",
       "       [49, 64]])"
      ]
     },
     "execution_count": 120,
     "metadata": {},
     "output_type": "execute_result"
    }
   ],
   "source": [
    "# 线性代数模块\n",
    "arr_x = np.array([[1,2,3],[4,5,6]])\n",
    "arr_y = np.array([[1,2],[3,4],[5,6]])\n",
    "arr_x.dot(arr_y) # 等价于np.dot(arr_x, arr_y)\n",
    "# array([[22, 28],\n",
    "#       [49, 64]])"
   ]
  },
  {
   "cell_type": "code",
   "execution_count": 125,
   "id": "c50214bc",
   "metadata": {},
   "outputs": [
    {
     "data": {
      "text/plain": [
       "array([0.07027274, 0.17125665, 0.97820993, 0.99702874, 0.37412418])"
      ]
     },
     "execution_count": 125,
     "metadata": {},
     "output_type": "execute_result"
    }
   ],
   "source": [
    "# 随机数模块\n",
    "np.random.rand(3,3) # 生成一个二维数组\n",
    "# array([[0.65681616, 0.87434912, 0.58502301],\n",
    "#       [0.03523995, 0.76161422, 0.23286451],\n",
    "#       [0.90213581, 0.28687796, 0.58325295]])\n",
    "np.random.rand(2,3,3) # 随机生成一个三维数组\n",
    "# array([[[0.37724397, 0.64220175, 0.91837001],\n",
    "#        [0.7730453 , 0.85312294, 0.35899016],\n",
    "#        [0.26583544, 0.954334  , 0.01339393]],\n",
    "#\n",
    "#       [[0.51987373, 0.35655088, 0.47461904],\n",
    "#        [0.84228396, 0.24641636, 0.04072919],\n",
    "#        [0.42446348, 0.36755701, 0.44920097]]])\n",
    "np.random.seed(0) # 生成随机数种子\n",
    "np.random.rand(5) # 随机生成包含5个元素的浮点数组\n",
    "# array([0.5488135 , 0.71518937, 0.60276338, 0.54488318, 0.4236548 ])\n",
    "np.random.seed(0)\n",
    "np.random.rand(5)\n",
    "# array([0.5488135 , 0.71518937, 0.60276338, 0.54488318, 0.4236548 ])\n",
    "np.random.seed()\n",
    "np.random.rand(5)\n",
    "# array([0.07027274, 0.17125665, 0.97820993, 0.99702874, 0.37412418])"
   ]
  },
  {
   "cell_type": "code",
   "execution_count": null,
   "id": "d4274852",
   "metadata": {},
   "outputs": [],
   "source": []
  }
 ],
 "metadata": {
  "kernelspec": {
   "display_name": "Python 3 (ipykernel)",
   "language": "python",
   "name": "python3"
  },
  "language_info": {
   "codemirror_mode": {
    "name": "ipython",
    "version": 3
   },
   "file_extension": ".py",
   "mimetype": "text/x-python",
   "name": "python",
   "nbconvert_exporter": "python",
   "pygments_lexer": "ipython3",
   "version": "3.9.7"
  }
 },
 "nbformat": 4,
 "nbformat_minor": 5
}
