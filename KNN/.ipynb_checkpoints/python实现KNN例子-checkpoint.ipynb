{
 "cells": [
  {
   "cell_type": "code",
   "execution_count": 2,
   "id": "e5a47c8f",
   "metadata": {},
   "outputs": [
    {
     "name": "stdout",
     "output_type": "stream",
     "text": [
      "[['宝贝当家', 23.43], ['美人鱼', 18.55], ['澳门风云3', 32.14], ['功夫熊猫3', 21.47], ['谍影重重', 43.87], ['叶问3', 52.01], ['伦敦陷落', 43.42], ['我的特工爷爷', 17.49], ['奔爱', 47.69], ['夜孔雀', 39.66], ['代理情人', 40.57], ['新步步惊心', 34.44]]\n",
      "[['我的特工爷爷', 17.49], ['美人鱼', 18.55], ['功夫熊猫3', 21.47], ['宝贝当家', 23.43], ['澳门风云3', 32.14]]\n",
      "[('喜剧片', 4), ('动作片', 1), ('爱情片', 0)]\n",
      "喜剧片\n"
     ]
    }
   ],
   "source": [
    "# 使用python实现KNN\n",
    "\n",
    "import math\n",
    "\n",
    "movie_data = {\n",
    "    \"宝贝当家\": [45, 2, 9, \"喜剧片\"],\n",
    "    \"美人鱼\": [21, 17, 5, \"喜剧片\"],\n",
    "    \"澳门风云3\": [54, 9, 11, \"喜剧片\"],\n",
    "    \"功夫熊猫3\": [39, 0, 31, \"喜剧片\"],\n",
    "    \"谍影重重\": [5, 2, 57, \"动作片\"],\n",
    "    \"叶问3\": [3, 2, 65, \"动作片\"],\n",
    "    \"伦敦陷落\": [2, 3, 55, \"动作片\"],\n",
    "    \"我的特工爷爷\": [6, 4, 21, \"动作片\"],\n",
    "    \"奔爱\": [7, 46, 4, \"爱情片\"],\n",
    "    \"夜孔雀\": [9, 39, 8, \"爱情片\"],\n",
    "    \"代理情人\": [9, 38, 2, \"爱情片\"],\n",
    "    \"新步步惊心\": [8, 34, 17, \"爱情片\"],\n",
    "}\n",
    "\n",
    "# 测试样本  \"唐人街探案 \": [23, 3, 17, \"?\"]\n",
    "x = [23, 3, 17]\n",
    "KNN = []\n",
    "for key, v in movie_data.items():\n",
    "    d = math.sqrt((x[0] - v[0])**2 + (x[1] - v[1])**2 + (x[2] - v[2])**2)\n",
    "    KNN.append([key, round(d, 2)])\n",
    "print(KNN)\n",
    "\n",
    "# list 的排序 sort \n",
    "#     list.sort( key=None, reverse=False)\n",
    "#     reverse = True 降序， reverse = False 升序（默认）。\n",
    "#     该方法没有返回值，但是会对列表的对象进行排序。\n",
    "# lambda\n",
    "KNN.sort(key=lambda dis : dis[1])\n",
    "KNN = KNN[:5]\n",
    "print(KNN)\n",
    "\n",
    "labels = {\"喜剧片\":0, \"动作片\":0, \"爱情片\":0}\n",
    "for s in KNN:\n",
    "    label = movie_data[s[0]]\n",
    "    labels[label[3]] += 1\n",
    "\n",
    "# sort 与 sorted 区别：\n",
    "#     sort 是应用在 list 上的方法，sorted 可以对所有可迭代的对象进行排序操作。\n",
    "#     list 的 sort 方法返回的是对已经存在的列表进行操作，无返回值，而内建函数 sorted 方法返回的是一个新的 list，\n",
    "#         而不是在原来的基础上进行的操作。\n",
    "# sorted(iterable, cmp=None, key=None, reverse=False)\n",
    "#     >>> L=[('b',2),('a',1),('c',3),('d',4)]\n",
    "#     >>> sorted(L, cmp=lambda x,y:cmp(x[1],y[1]))   # 利用cmp函数\n",
    "#     [('a', 1), ('b', 2), ('c', 3), ('d', 4)]\n",
    "#     >>> sorted(L, key=lambda x:x[1])               # 利用key\n",
    "#     [('a', 1), ('b', 2), ('c', 3), ('d', 4)]\n",
    "#     key 和 reverse 比一个等价的 cmp 函数处理速度要快。这是因为对于每个列表元素，cmp 都会被调用多次，而 key 和 reverse 只被调用一次\n",
    "#\n",
    "#\n",
    "#  labels = {\"喜剧片\":0, \"动作片\":0, \"爱情片\":0}\n",
    "#  labels.items()\n",
    "#  dict_items([('喜剧片', 0), ('动作片', 0), ('爱情片', 0)])\n",
    "labels = sorted(labels.items(), key=lambda l:l[1], reverse=True)\n",
    "print(labels, labels[0][0], sep='\\n')"
   ]
  },
  {
   "cell_type": "code",
   "execution_count": 5,
   "id": "bbc9a5f0",
   "metadata": {},
   "outputs": [],
   "source": [
    "labels = {\"喜剧片\":0, \"动作片\":0, \"爱情片\":0}"
   ]
  },
  {
   "cell_type": "code",
   "execution_count": 6,
   "id": "ac533172",
   "metadata": {},
   "outputs": [
    {
     "data": {
      "text/plain": [
       "dict_items([('喜剧片', 0), ('动作片', 0), ('爱情片', 0)])"
      ]
     },
     "execution_count": 6,
     "metadata": {},
     "output_type": "execute_result"
    }
   ],
   "source": [
    "labels.items()"
   ]
  }
 ],
 "metadata": {
  "kernelspec": {
   "display_name": "Python 3 (ipykernel)",
   "language": "python",
   "name": "python3"
  },
  "language_info": {
   "codemirror_mode": {
    "name": "ipython",
    "version": 3
   },
   "file_extension": ".py",
   "mimetype": "text/x-python",
   "name": "python",
   "nbconvert_exporter": "python",
   "pygments_lexer": "ipython3",
   "version": "3.9.7"
  }
 },
 "nbformat": 4,
 "nbformat_minor": 5
}
